{
 "cells": [
  {
   "cell_type": "code",
   "execution_count": 2,
   "id": "aa6be505",
   "metadata": {},
   "outputs": [],
   "source": [
    "import os, sys\n",
    "import time\n",
    "import numpy as np\n",
    "import pandas as pd\n",
    "import yaml\n",
    "import h5py\n",
    "import pickle\n",
    "import configparser\n",
    "import argparse\n",
    "import matplotlib.pyplot as plt"
   ]
  },
  {
   "cell_type": "markdown",
   "id": "5e3170d9",
   "metadata": {},
   "source": [
    "## Data preprocessing - logNorm transformation"
   ]
  },
  {
   "cell_type": "code",
   "execution_count": 3,
   "id": "d3abdb4d",
   "metadata": {},
   "outputs": [
    {
     "name": "stdout",
     "output_type": "stream",
     "text": [
      "\n",
      "START PROCESSING\n",
      "current set processed: 0\n",
      "current set processed: 10000\n",
      "current set processed: 20000\n",
      "current set processed: 30000\n",
      "current set processed: 40000\n",
      "current set processed: 50000\n",
      "current set processed: 60000\n",
      "current set processed: 70000\n",
      "Desired Stability Incidence: 0.588125\n",
      "Shape of all data: (80000, 259)\n",
      "Shape of control data: (5000, 259)\n",
      "N data for training: 64000\n",
      "N data for validation: 16000\n"
     ]
    }
   ],
   "source": [
    "if __name__ == \"__main__\":\n",
    "\n",
    "    start = time.time()\n",
    "    print('\\nSTART PROCESSING')\n",
    "    \n",
    "    met_model = 'varma_ecoli_small'\n",
    "    exp_id = 'fdp1'\n",
    "    \n",
    "    # get back parameters\n",
    "    #path_parameters = f'models/{met_model}/parameters/parameters_sample_id_{exp_id}_0.hdf5'\n",
    "    path_parameters = 'models/varma_ecoli_small/parameters/parameters_sample_id_fdp1_0.hdf5'\n",
    "    if not path_parameters.endswith('.hdf5'):\n",
    "        raise ValueError('Your data must be a .hdf5 file')\n",
    "\n",
    "    # get back the stability information\n",
    "    #path_stability = f'models/{met_model}/parameters/maximal_eigenvalues_{exp_id}_0.csv'\n",
    "    path_stability = 'models/varma_ecoli_small/parameters/maximal_eigenvalues_fdp1.csv'\n",
    "    if not path_stability.endswith('.csv'):\n",
    "        raise ValueError('Your data must be a .csv file')\n",
    "\n",
    "    # get the data and processed\n",
    "    f = h5py.File(path_parameters, 'r')\n",
    "    stabilities = pd.read_csv(path_stability).iloc[:,1].values\n",
    "    parameter_set_dim = 411\n",
    "    \n",
    "    n_parameters = f[('num_parameters_sets')][()]\n",
    "    all_data = np.empty([n_parameters, parameter_set_dim])\n",
    "    all_stabilities = np.empty([n_parameters])\n",
    "\n",
    "    J_partition = -9\n",
    "    count0,count1 = 0,0\n",
    "    \n",
    "    for i in range(0,n_parameters):\n",
    "        \n",
    "        if i%10000==0:\n",
    "            print(f'current set processed: {i}')\n",
    "        this_param_set = f'parameter_set_{i}'\n",
    "        param_values = np.array(f.get(this_param_set))\n",
    "\n",
    "        mreal = stabilities[i]\n",
    "        \n",
    "        if mreal>=J_partition:\n",
    "            stability=0\n",
    "            count0+=1\n",
    "        elif mreal<J_partition:\n",
    "            stability=1\n",
    "            count1+=1\n",
    "            \n",
    "        all_data[i]=param_values\n",
    "        all_stabilities[i] = stability\n",
    "\n",
    "    all_data = np.array(all_data)\n",
    "    all_stabilities = np.array(all_stabilities)\n",
    "    \n",
    "    n_param = all_data.shape[0]\n",
    "    print(f'Desired Stability Incidence: {count1/n_param}')\n",
    "\n",
    "    # keep only km\n",
    "    parameter_names = list(f['parameter_names'])\n",
    "    idx_to_keep = [i for i,x in enumerate(parameter_names) if 'km_' in x]\n",
    "    all_km = all_data[:,idx_to_keep]\n",
    "    all_km_names = [x for i,x in enumerate(parameter_names) if 'km_' in x]\n",
    "    \n",
    "    #create control dataset\n",
    "    control_samples = 5000\n",
    "    control_data = np.empty((control_samples,all_km.shape[1]))\n",
    "    range_all_km = np.empty((2,all_km.shape[1]))\n",
    "    for j in range(all_km.shape[1]):\n",
    "        range_all_km[:,j] = np.array([np.min(all_km[:,j]),np.max(all_km[:,j])])\n",
    "\n",
    "    for j in range(control_samples):\n",
    "        this_control = []\n",
    "        for k in range(all_km.shape[1]):\n",
    "            this_km = np.random.uniform(range_all_km[0][k], range_all_km[1][k])\n",
    "            this_control.append(this_km)\n",
    "        control_data[j,:] = this_control\n",
    "\n",
    "    print(f'Shape of all data: {all_km.shape}')\n",
    "    print(f'Shape of control data: {control_data.shape}')\n",
    "    \n",
    "    # take the log\n",
    "    log_all_data = np.log(all_km)\n",
    "\n",
    "    # train-val split\n",
    "    ratio = float(0.8)\n",
    "    n_data = log_all_data.shape[0]\n",
    "    limit = int(ratio*n_data)\n",
    "    all_idx = np.arange(n_data)\n",
    "    np.random.shuffle(all_idx)\n",
    "\n",
    "    idx_tr = all_idx[:limit]\n",
    "    idx_val = all_idx[limit:]\n",
    "\n",
    "    tr_data = log_all_data[idx_tr]\n",
    "    val_data = log_all_data[idx_val]\n",
    "\n",
    "    tr_stabi = all_stabilities[idx_tr]\n",
    "    val_stabi = all_stabilities[idx_val]\n",
    "\n",
    "    print(f'N data for training: {tr_data.shape[0]}')\n",
    "    print(f'N data for validation: {val_data.shape[0]}')\n"
   ]
  },
  {
   "cell_type": "markdown",
   "id": "bddf7a1b",
   "metadata": {},
   "source": [
    "# 1. Logistic Regression"
   ]
  },
  {
   "cell_type": "code",
   "execution_count": 4,
   "id": "227b9649",
   "metadata": {},
   "outputs": [],
   "source": [
    "from sklearn.linear_model import LogisticRegression"
   ]
  },
  {
   "cell_type": "markdown",
   "id": "55809c01",
   "metadata": {},
   "source": [
    "## Checking classification performance"
   ]
  },
  {
   "cell_type": "code",
   "execution_count": 5,
   "id": "90be0f1d",
   "metadata": {},
   "outputs": [
    {
     "name": "stdout",
     "output_type": "stream",
     "text": [
      "Logistic Regression performance : 0.7344375000000001. with error: 1.1102230246251565e-16\n"
     ]
    }
   ],
   "source": [
    "store_accuracy_lr = []\n",
    "store_importance_lr = []\n",
    "for j in range(10):\n",
    "    clf = LogisticRegression(solver = 'lbfgs', max_iter=100).fit(tr_data, tr_stabi)\n",
    "\n",
    "    # Predict labels on Test data\n",
    "    pred = clf.predict(val_data)\n",
    "    accuracy_lr  = len([boolean for boolean in (pred == val_stabi) if boolean==True])/len(val_stabi) \n",
    "    store_accuracy_lr.append(accuracy_lr)\n",
    "    store_importance_lr.append(clf.coef_[0])\n",
    "    \n",
    "store_accuracy_lr = np.array(store_accuracy_lr)\n",
    "print(f'Logistic Regression performance : {np.mean(store_accuracy_lr)}. with error: {np.std(store_accuracy_lr)}')"
   ]
  },
  {
   "cell_type": "markdown",
   "id": "c6bade6e",
   "metadata": {},
   "source": [
    "## Check feature importance"
   ]
  },
  {
   "cell_type": "code",
   "execution_count": 6,
   "id": "8507e99f",
   "metadata": {},
   "outputs": [
    {
     "data": {
      "image/png": "[encoded data removed]",
      "text/plain": [
       "<Figure size 432x288 with 1 Axes>"
      ]
     },
     "metadata": {
      "needs_background": "light"
     },
     "output_type": "display_data"
    }
   ],
   "source": [
    "plt.plot(np.abs(np.array(store_importance_lr)).T)\n",
    "plt.xlabel('Kinetic Parameter')\n",
    "plt.ylabel('Feature Importance in Logistic Regression')\n",
    "plt.show()"
   ]
  },
  {
   "cell_type": "code",
   "execution_count": 7,
   "id": "44f07b64",
   "metadata": {},
   "outputs": [
    {
     "name": "stdout",
     "output_type": "stream",
     "text": [
      "Most important feature according to Logistic Regression coefficients: km_substrate_ACONTa\n"
     ]
    }
   ],
   "source": [
    "mean_score_lr = np.mean(np.abs(store_importance_lr), axis = 0)\n",
    "imp_idx = np.where(mean_score_lr == np.max(mean_score_lr))[0][0]\n",
    "print(f'Most important feature according to Logistic Regression coefficients: {parameter_names[imp_idx]}')"
   ]
  },
  {
   "cell_type": "markdown",
   "id": "e19060d4",
   "metadata": {},
   "source": [
    "## Pruning feautures which have high feature importance and repeating"
   ]
  },
  {
   "cell_type": "code",
   "execution_count": 8,
   "id": "47d9f86c",
   "metadata": {},
   "outputs": [
    {
     "name": "stdout",
     "output_type": "stream",
     "text": [
      "Logistic Regression performance on pruned dataset : 0.7113750000000001. with error: 1.1102230246251565e-16\n"
     ]
    }
   ],
   "source": [
    "imp_idxs =  np.where(mean_score_lr >= 0.1)[0]\n",
    "store_accuracy_lr_pruned = []\n",
    "store_importance_lr_pruned = []\n",
    "for j in range(10):\n",
    "    clf = LogisticRegression(solver = 'lbfgs', max_iter=100).fit(tr_data[:,imp_idxs], tr_stabi)\n",
    "\n",
    "    # Predict labels on Test data\n",
    "    pred = clf.predict(val_data[:,imp_idxs])\n",
    "    accuracy_lr  = len([boolean for boolean in (pred == val_stabi) if boolean==True])/len(val_stabi) \n",
    "    store_accuracy_lr_pruned.append(accuracy_lr)\n",
    "    store_importance_lr_pruned.append(clf.coef_[0])\n",
    "    \n",
    "store_accuracy_lr_pruned = np.array(store_accuracy_lr_pruned)\n",
    "print(f'Logistic Regression performance on pruned dataset : {np.mean(store_accuracy_lr_pruned)}. with error: {np.std(store_accuracy_lr_pruned)}')"
   ]
  },
  {
   "cell_type": "markdown",
   "id": "893d0b0a",
   "metadata": {},
   "source": [
    "We observe that pruning the most important features did not result in improved classification and hence they are not reliable estimators of important kinetic parameters"
   ]
  },
  {
   "cell_type": "markdown",
   "id": "faaa7033",
   "metadata": {},
   "source": [
    "# 2. Support Vector Machines"
   ]
  },
  {
   "cell_type": "code",
   "execution_count": 9,
   "id": "701bbeed",
   "metadata": {},
   "outputs": [],
   "source": [
    "from sklearn import svm"
   ]
  },
  {
   "cell_type": "code",
   "execution_count": 10,
   "id": "ed3540f9",
   "metadata": {},
   "outputs": [
    {
     "name": "stdout",
     "output_type": "stream",
     "text": [
      "Support vector machine performance : 0.741625. with error: 0.0\n"
     ]
    }
   ],
   "source": [
    "store_accuracy_svm = []\n",
    "for j in range(3):\n",
    "    clf = svm.SVC()\n",
    "    clf.fit(tr_data, tr_stabi)\n",
    "    pred_svm = clf.predict(val_data)\n",
    "    accuracy_svm  = len([boolean for boolean in (pred_svm == val_stabi) if boolean==True])/len(val_stabi)\n",
    "    store_accuracy_svm.append(accuracy_svm)\n",
    "\n",
    "store_accuracy_svm= np.array(store_accuracy_svm)\n",
    "print(f'Support vector machine performance : {np.mean(store_accuracy_svm)}. with error: {np.std(store_accuracy_svm)}')"
   ]
  },
  {
   "cell_type": "markdown",
   "id": "aa9d1469",
   "metadata": {},
   "source": [
    "Classification with SVMs is also not very good. "
   ]
  },
  {
   "cell_type": "markdown",
   "id": "a2242a53",
   "metadata": {},
   "source": [
    "# 3. XGboost"
   ]
  },
  {
   "cell_type": "code",
   "execution_count": 13,
   "id": "23f8c768",
   "metadata": {},
   "outputs": [
    {
     "name": "stdout",
     "output_type": "stream",
     "text": [
      "Collecting xgboost\n",
      "  Using cached xgboost-1.6.0-py3-none-manylinux2014_x86_64.whl (193.7 MB)\n",
      "Requirement already satisfied: numpy in /home/subham/anaconda3/envs/test_tf/lib/python3.8/site-packages (from xgboost) (1.18.5)\n",
      "Requirement already satisfied: scipy in /home/subham/anaconda3/envs/test_tf/lib/python3.8/site-packages (from xgboost) (1.4.1)\n",
      "Installing collected packages: xgboost\n",
      "Successfully installed xgboost-1.6.0\n"
     ]
    }
   ],
   "source": [
    "!pip install xgboost\n",
    "import xgboost\n",
    "from xgboost import XGBClassifier"
   ]
  },
  {
   "cell_type": "code",
   "execution_count": 14,
   "id": "6ca5b8cc",
   "metadata": {},
   "outputs": [
    {
     "name": "stdout",
     "output_type": "stream",
     "text": [
      "XGBoost performance : 0.7595. with error: 0.0\n"
     ]
    }
   ],
   "source": [
    "store_accuracy_xgb= []\n",
    "\n",
    "for j in range(5):\n",
    "    \n",
    "    model=XGBClassifier(learning_rate=0.01)\n",
    "    model.fit(tr_data, tr_stabi)\n",
    "    \n",
    "    pred_xgb = model.predict(val_data)\n",
    "    accuracy_xgb  = len([boolean for boolean in (pred_xgb == val_stabi) if boolean==True])/len(val_stabi)\n",
    "    store_accuracy_xgb.append(accuracy_xgb)\n",
    "\n",
    "store_accuracy_xgb = np.array(store_accuracy_xgb)\n",
    "print(f'XGBoost performance : {np.mean(store_accuracy_xgb)}. with error: {np.std(store_accuracy_xgb)}')"
   ]
  },
  {
   "cell_type": "markdown",
   "id": "95d627bd",
   "metadata": {},
   "source": [
    "## Important features"
   ]
  },
  {
   "cell_type": "code",
   "execution_count": 15,
   "id": "52c84a83",
   "metadata": {},
   "outputs": [
    {
     "data": {
      "text/plain": [
       "<AxesSubplot:title={'center':'Feature importance'}, xlabel='F score', ylabel='Features'>"
      ]
     },
     "execution_count": 15,
     "metadata": {},
     "output_type": "execute_result"
    },
    {
     "data": {
      "image/png": "[encoded data removed]",
      "text/plain": [
       "<Figure size 432x288 with 1 Axes>"
      ]
     },
     "metadata": {
      "needs_background": "light"
     },
     "output_type": "display_data"
    }
   ],
   "source": [
    "xgboost.plot_importance(model, max_num_features = 20)"
   ]
  },
  {
   "cell_type": "markdown",
   "id": "f86cbc31",
   "metadata": {},
   "source": [
    "## Pruning important features"
   ]
  },
  {
   "cell_type": "code",
   "execution_count": 16,
   "id": "45622c89",
   "metadata": {},
   "outputs": [
    {
     "name": "stdout",
     "output_type": "stream",
     "text": [
      "XGBoost performance after pruning: 0.759875. with error: 0.0\n"
     ]
    }
   ],
   "source": [
    "imp_features = [19,20,124,171,17,60,59,31,170,0,39,145,104,18,174,32,12,172,1,44]\n",
    "\n",
    "store_accuracy_xgb_pruned= []\n",
    "\n",
    "for j in range(5):\n",
    "    \n",
    "    model=XGBClassifier(learning_rate=0.01)\n",
    "    model.fit(tr_data[:,imp_features], tr_stabi)\n",
    "    \n",
    "    pred_xgb = model.predict(val_data[:,imp_features])\n",
    "    accuracy_xgb_pruned  = len([boolean for boolean in (pred_xgb == val_stabi) if boolean==True])/len(val_stabi)\n",
    "    store_accuracy_xgb_pruned.append(accuracy_xgb_pruned)\n",
    "\n",
    "store_accuracy_xgb = np.array(store_accuracy_xgb_pruned)\n",
    "print(f'XGBoost performance after pruning: {np.mean(store_accuracy_xgb_pruned)}. with error: {np.std(store_accuracy_xgb_pruned)}')"
   ]
  },
  {
   "cell_type": "markdown",
   "id": "7cb70b80",
   "metadata": {},
   "source": [
    "# 4. Random Forests"
   ]
  },
  {
   "cell_type": "code",
   "execution_count": 17,
   "id": "f90a2632",
   "metadata": {},
   "outputs": [],
   "source": [
    "from sklearn.ensemble import RandomForestClassifier"
   ]
  },
  {
   "cell_type": "code",
   "execution_count": 18,
   "id": "0a60c868",
   "metadata": {},
   "outputs": [
    {
     "name": "stdout",
     "output_type": "stream",
     "text": [
      "Random Forest performance : 0.5899166666666666. with error: 0.0008559432743405849\n"
     ]
    }
   ],
   "source": [
    "store_accuracy_rf = []\n",
    "for j in range(3):\n",
    "    clf = RandomForestClassifier(max_depth=2)\n",
    "    clf.fit(tr_data, tr_stabi)\n",
    "    pred_rf = clf.predict(val_data)\n",
    "    accuracy_rf  = len([boolean for boolean in (pred_rf == val_stabi) if boolean==True])/len(val_stabi)\n",
    "    store_accuracy_rf.append(accuracy_rf)\n",
    "\n",
    "store_accuracy_rf = np.array(store_accuracy_rf)\n",
    "print(f'Random Forest performance : {np.mean(store_accuracy_rf)}. with error: {np.std(store_accuracy_rf)}')"
   ]
  },
  {
   "cell_type": "markdown",
   "id": "5801c52a",
   "metadata": {},
   "source": [
    "# Summary"
   ]
  },
  {
   "cell_type": "code",
   "execution_count": 34,
   "id": "f0688999",
   "metadata": {},
   "outputs": [
    {
     "data": {
      "image/png": "[encoded data removed]",
      "text/plain": [
       "<Figure size 864x576 with 1 Axes>"
      ]
     },
     "metadata": {
      "needs_background": "light"
     },
     "output_type": "display_data"
    }
   ],
   "source": [
    "all_results = [np.mean(store_accuracy_lr),\n",
    "               np.mean(store_accuracy_svm),\n",
    "               np.mean(store_accuracy_xgb),\n",
    "               np.mean(store_accuracy_rf)]\n",
    "labels = ['Logistic Regression', 'SVM', 'XGBoost', 'RandomForest']\n",
    "c = ['#070707','#553555', '#755B69', '#96C5B0']\n",
    "plt.figure(figsize = (12,8))\n",
    "plt.bar(labels,all_results, edgecolor= 'k', linewidth = '1', color = c)\n",
    "plt.ylim([0,1])\n",
    "plt.axhline(y=0.5, c= 'k')\n",
    "plt.ylabel('Classification score')\n",
    "\n",
    "plt.savefig('simpler_models.svg', dpi=300, \n",
    "                 transparent=False, bbox_inches='tight')\n",
    "plt.show()"
   ]
  },
  {
   "cell_type": "code",
   "execution_count": 33,
   "id": "db336bbc",
   "metadata": {},
   "outputs": [],
   "source": [
    "np.set_printoptions(precision=2)\n",
    "\n",
    "plt.rcParams['axes.labelsize'] = 25\n",
    "plt.rc('xtick',labelsize=20)\n",
    "plt.rc('ytick',labelsize=20)\n",
    "plt.style.use('seaborn-whitegrid')\n",
    "#plt.style.use('science')\n",
    "%matplotlib inline"
   ]
  },
  {
   "cell_type": "code",
   "execution_count": null,
   "id": "fe0cc195",
   "metadata": {},
   "outputs": [],
   "source": []
  }
 ],
 "metadata": {
  "kernelspec": {
   "display_name": "Python 3 (ipykernel)",
   "language": "python",
   "name": "python3"
  },
  "language_info": {
   "codemirror_mode": {
    "name": "ipython",
    "version": 3
   },
   "file_extension": ".py",
   "mimetype": "text/x-python",
   "name": "python",
   "nbconvert_exporter": "python",
   "pygments_lexer": "ipython3",
   "version": "3.8.10"
  }
 },
 "nbformat": 4,
 "nbformat_minor": 5
}
